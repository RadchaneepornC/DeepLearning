{
  "nbformat": 4,
  "nbformat_minor": 0,
  "metadata": {
    "colab": {
      "provenance": []
    },
    "kernelspec": {
      "name": "python3",
      "display_name": "Python 3"
    },
    "language_info": {
      "name": "python"
    }
  },
  "cells": [
    {
      "cell_type": "code",
      "execution_count": 2,
      "metadata": {
        "id": "hRemFQnqs5cZ"
      },
      "outputs": [],
      "source": [
        "#import essential libaries\n",
        "import torch\n",
        "import pandas as pd\n",
        "import numpy as np\n",
        "import matplotlib.pyplot as plt"
      ]
    },
    {
      "cell_type": "code",
      "source": [
        "#command for checking Pytorch and cuda version\n",
        "torch.__version__"
      ],
      "metadata": {
        "id": "_-J_KYnKs_qf",
        "outputId": "d44af525-bb01-4677-c784-8731543af47c",
        "colab": {
          "base_uri": "https://localhost:8080/",
          "height": 37
        }
      },
      "execution_count": 3,
      "outputs": [
        {
          "output_type": "execute_result",
          "data": {
            "text/plain": [
              "'2.1.0+cu121'"
            ],
            "application/vnd.google.colaboratory.intrinsic+json": {
              "type": "string"
            }
          },
          "metadata": {},
          "execution_count": 3
        }
      ]
    },
    {
      "cell_type": "markdown",
      "source": [
        "from above result, now, we use\n",
        "- Pytorch in the version of 2.1.0\n",
        "- cuda in the version of 12.1"
      ],
      "metadata": {
        "id": "wXOXv3m4umh4"
      }
    },
    {
      "cell_type": "code",
      "source": [],
      "metadata": {
        "id": "uz3z6gONufkG"
      },
      "execution_count": null,
      "outputs": []
    }
  ]
}