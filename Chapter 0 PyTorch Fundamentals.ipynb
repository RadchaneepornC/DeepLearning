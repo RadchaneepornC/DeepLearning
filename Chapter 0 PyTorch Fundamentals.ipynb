{
  "nbformat": 4,
  "nbformat_minor": 0,
  "metadata": {
    "colab": {
      "provenance": []
    },
    "kernelspec": {
      "name": "python3",
      "display_name": "Python 3"
    },
    "language_info": {
      "name": "python"
    }
  },
  "cells": [
    {
      "cell_type": "markdown",
      "source": [
        "# **Pytorch Fundamentals**"
      ],
      "metadata": {
        "id": "4NvBa2ArHcxy"
      }
    },
    {
      "cell_type": "markdown",
      "source": [
        ">[Pytorch Fundamentals](#scrollTo=4NvBa2ArHcxy)\n",
        "\n",
        ">>[Introduction to Tensor](#scrollTo=IJ63STuYvO7o)\n",
        "\n",
        ">>>[Scalar](#scrollTo=nurFriQdCgMz)\n",
        "\n",
        ">>>[Vector](#scrollTo=C0jtR0K0CjyR)\n",
        "\n",
        ">>>[Matrix](#scrollTo=CDGhya2GCm53)\n",
        "\n",
        ">>>[Tensor](#scrollTo=dpAmfYcUCp3S)\n",
        "\n",
        ">>[Random tensors](#scrollTo=k3LKg7f7mRVT)\n",
        "\n"
      ],
      "metadata": {
        "colab_type": "toc",
        "id": "o_4C_CcmCynH"
      }
    },
    {
      "cell_type": "code",
      "execution_count": null,
      "metadata": {
        "id": "hRemFQnqs5cZ"
      },
      "outputs": [],
      "source": [
        "#import essential libaries\n",
        "import torch\n",
        "import pandas as pd\n",
        "import numpy as np\n",
        "import matplotlib.pyplot as plt"
      ]
    },
    {
      "cell_type": "code",
      "source": [
        "#command for checking Pytorch and cuda version\n",
        "torch.__version__"
      ],
      "metadata": {
        "id": "_-J_KYnKs_qf",
        "colab": {
          "base_uri": "https://localhost:8080/",
          "height": 37
        },
        "outputId": "d44af525-bb01-4677-c784-8731543af47c"
      },
      "execution_count": null,
      "outputs": [
        {
          "output_type": "execute_result",
          "data": {
            "text/plain": [
              "'2.1.0+cu121'"
            ],
            "application/vnd.google.colaboratory.intrinsic+json": {
              "type": "string"
            }
          },
          "metadata": {},
          "execution_count": 3
        }
      ]
    },
    {
      "cell_type": "markdown",
      "source": [
        "from above result, now, we use\n",
        "- Pytorch in the version of 2.1.0\n",
        "- cuda in the version of 12.1"
      ],
      "metadata": {
        "id": "wXOXv3m4umh4"
      }
    },
    {
      "cell_type": "markdown",
      "source": [
        "## **Introduction to Tensor**"
      ],
      "metadata": {
        "id": "IJ63STuYvO7o"
      }
    },
    {
      "cell_type": "markdown",
      "source": [
        "Pytorch tensors are created using\n",
        "\n",
        "```\n",
        "torch.Tensor()\n",
        "```\n",
        "- A [torch.Tensor()](https://pytorch.org/docs/stable/tensors.html) is a multi-dimensional matrix containing elements of a single data type\n",
        "\n",
        "- **torch.Tensor** is an alias for the default tensor **type  torch.FloatTensor** (32-bit floating point for CPU tensor)\n",
        "\n"
      ],
      "metadata": {
        "id": "EJctL0Ksvx2e"
      }
    },
    {
      "cell_type": "markdown",
      "source": [
        "### **Scalar**"
      ],
      "metadata": {
        "id": "nurFriQdCgMz"
      }
    },
    {
      "cell_type": "code",
      "source": [
        "#create tensors\n",
        "scalar = torch.tensor(7)\n",
        "scalar"
      ],
      "metadata": {
        "colab": {
          "base_uri": "https://localhost:8080/"
        },
        "id": "uz3z6gONufkG",
        "outputId": "aec64302-c3f9-47d2-a503-89d08f14332b"
      },
      "execution_count": null,
      "outputs": [
        {
          "output_type": "execute_result",
          "data": {
            "text/plain": [
              "tensor(7)"
            ]
          },
          "metadata": {},
          "execution_count": 4
        }
      ]
    },
    {
      "cell_type": "code",
      "source": [
        "#to check number of dimensions of tensors\n",
        "scalar.ndim"
      ],
      "metadata": {
        "colab": {
          "base_uri": "https://localhost:8080/"
        },
        "id": "G4ET_1IV_VUy",
        "outputId": "7fd3ce8b-4489-4810-8db1-8cc5e675c104"
      },
      "execution_count": null,
      "outputs": [
        {
          "output_type": "execute_result",
          "data": {
            "text/plain": [
              "0"
            ]
          },
          "metadata": {},
          "execution_count": 5
        }
      ]
    },
    {
      "cell_type": "code",
      "source": [
        "#to get tensor back as Python int\n",
        "scalar.item()"
      ],
      "metadata": {
        "colab": {
          "base_uri": "https://localhost:8080/"
        },
        "id": "7rafGQR9_n4Z",
        "outputId": "b081a654-959e-4da1-a54b-991ab7bb9e42"
      },
      "execution_count": null,
      "outputs": [
        {
          "output_type": "execute_result",
          "data": {
            "text/plain": [
              "7"
            ]
          },
          "metadata": {},
          "execution_count": 6
        }
      ]
    },
    {
      "cell_type": "markdown",
      "source": [
        "### **Vector**"
      ],
      "metadata": {
        "id": "C0jtR0K0CjyR"
      }
    },
    {
      "cell_type": "code",
      "source": [
        "#Vector\n",
        "vector = torch.tensor([7,7])\n",
        "vector"
      ],
      "metadata": {
        "colab": {
          "base_uri": "https://localhost:8080/"
        },
        "id": "wIInO-yO_01F",
        "outputId": "4fcf4cbe-431d-48fd-a8f6-7e0749025733"
      },
      "execution_count": null,
      "outputs": [
        {
          "output_type": "execute_result",
          "data": {
            "text/plain": [
              "tensor([7, 7])"
            ]
          },
          "metadata": {},
          "execution_count": 7
        }
      ]
    },
    {
      "cell_type": "code",
      "source": [
        "vector.ndim"
      ],
      "metadata": {
        "colab": {
          "base_uri": "https://localhost:8080/"
        },
        "id": "doJ4mMG1AQuU",
        "outputId": "15ee1b04-aaf4-4e86-f69c-0dc38b993175"
      },
      "execution_count": null,
      "outputs": [
        {
          "output_type": "execute_result",
          "data": {
            "text/plain": [
              "1"
            ]
          },
          "metadata": {},
          "execution_count": 8
        }
      ]
    },
    {
      "cell_type": "markdown",
      "source": [
        "**easily to remember**: number of dimension = number of [ ] or number of element result from .shape"
      ],
      "metadata": {
        "id": "hYN12DACBAHi"
      }
    },
    {
      "cell_type": "code",
      "source": [
        "#number of element\n",
        "vector.shape"
      ],
      "metadata": {
        "colab": {
          "base_uri": "https://localhost:8080/"
        },
        "id": "V1jk-IaYBNYO",
        "outputId": "1031fd3a-46ac-462e-a6db-aaa6ae5953ba"
      },
      "execution_count": null,
      "outputs": [
        {
          "output_type": "execute_result",
          "data": {
            "text/plain": [
              "torch.Size([2])"
            ]
          },
          "metadata": {},
          "execution_count": 9
        }
      ]
    },
    {
      "cell_type": "markdown",
      "source": [
        "### **Matrix**"
      ],
      "metadata": {
        "id": "CDGhya2GCm53"
      }
    },
    {
      "cell_type": "code",
      "source": [
        "#matrix\n",
        "MATRIX = torch.tensor([[7, 8],\n",
        "                      [9, 10]])\n",
        "\n",
        "MATRIX"
      ],
      "metadata": {
        "colab": {
          "base_uri": "https://localhost:8080/"
        },
        "id": "_dOctx3hBnAh",
        "outputId": "86c77be9-453e-45e5-b3a5-11e57d67710d"
      },
      "execution_count": null,
      "outputs": [
        {
          "output_type": "execute_result",
          "data": {
            "text/plain": [
              "tensor([[ 7,  8],\n",
              "        [ 9, 10]])"
            ]
          },
          "metadata": {},
          "execution_count": 10
        }
      ]
    },
    {
      "cell_type": "code",
      "source": [
        "MATRIX.ndim\n",
        "#2 square brackets"
      ],
      "metadata": {
        "colab": {
          "base_uri": "https://localhost:8080/"
        },
        "id": "NHVNxw65B3KF",
        "outputId": "661c4d33-1d59-4a6a-95db-fe189ec80695"
      },
      "execution_count": null,
      "outputs": [
        {
          "output_type": "execute_result",
          "data": {
            "text/plain": [
              "2"
            ]
          },
          "metadata": {},
          "execution_count": 11
        }
      ]
    },
    {
      "cell_type": "code",
      "source": [
        "MATRIX[0]"
      ],
      "metadata": {
        "colab": {
          "base_uri": "https://localhost:8080/"
        },
        "id": "D4_QvPG2CCjB",
        "outputId": "6c3d15fd-1459-416e-e2c5-12612b664bf7"
      },
      "execution_count": null,
      "outputs": [
        {
          "output_type": "execute_result",
          "data": {
            "text/plain": [
              "tensor([7, 8])"
            ]
          },
          "metadata": {},
          "execution_count": 12
        }
      ]
    },
    {
      "cell_type": "code",
      "source": [
        "MATRIX[1]"
      ],
      "metadata": {
        "colab": {
          "base_uri": "https://localhost:8080/"
        },
        "id": "M8inKeKrCGAn",
        "outputId": "726953c2-4f28-4817-d562-c34d91a426d4"
      },
      "execution_count": null,
      "outputs": [
        {
          "output_type": "execute_result",
          "data": {
            "text/plain": [
              "tensor([ 9, 10])"
            ]
          },
          "metadata": {},
          "execution_count": 13
        }
      ]
    },
    {
      "cell_type": "code",
      "source": [
        "MATRIX.shape\n",
        "#2x2"
      ],
      "metadata": {
        "colab": {
          "base_uri": "https://localhost:8080/"
        },
        "id": "u8RHWn7zCTvH",
        "outputId": "562a0937-8c95-4951-b242-76f017235414"
      },
      "execution_count": null,
      "outputs": [
        {
          "output_type": "execute_result",
          "data": {
            "text/plain": [
              "torch.Size([2, 2])"
            ]
          },
          "metadata": {},
          "execution_count": 14
        }
      ]
    },
    {
      "cell_type": "markdown",
      "source": [
        "### **Tensor**"
      ],
      "metadata": {
        "id": "dpAmfYcUCp3S"
      }
    },
    {
      "cell_type": "code",
      "source": [
        "TENSOR = torch.tensor([[[1, 2, 3],\n",
        "                      [3, 6, 9],\n",
        "                      [2, 4, 4]]])\n",
        "TENSOR"
      ],
      "metadata": {
        "colab": {
          "base_uri": "https://localhost:8080/"
        },
        "id": "oXV6Q3HHCcfL",
        "outputId": "ea1d29e5-1196-49d0-9a9c-849068cc107c"
      },
      "execution_count": null,
      "outputs": [
        {
          "output_type": "execute_result",
          "data": {
            "text/plain": [
              "tensor([[[1, 2, 3],\n",
              "         [3, 6, 9],\n",
              "         [2, 4, 4]]])"
            ]
          },
          "metadata": {},
          "execution_count": 15
        }
      ]
    },
    {
      "cell_type": "code",
      "source": [
        "TENSOR.ndim"
      ],
      "metadata": {
        "colab": {
          "base_uri": "https://localhost:8080/"
        },
        "id": "LZEpJEqADm37",
        "outputId": "bb70bd87-b9b7-4c37-cea6-06c379187dd2"
      },
      "execution_count": null,
      "outputs": [
        {
          "output_type": "execute_result",
          "data": {
            "text/plain": [
              "3"
            ]
          },
          "metadata": {},
          "execution_count": 16
        }
      ]
    },
    {
      "cell_type": "code",
      "source": [
        "TENSOR.shape"
      ],
      "metadata": {
        "colab": {
          "base_uri": "https://localhost:8080/"
        },
        "id": "tW3getKiDpfN",
        "outputId": "35104e68-2885-44e9-a4c2-e1cb37c3ff28"
      },
      "execution_count": null,
      "outputs": [
        {
          "output_type": "execute_result",
          "data": {
            "text/plain": [
              "torch.Size([1, 3, 3])"
            ]
          },
          "metadata": {},
          "execution_count": 17
        }
      ]
    },
    {
      "cell_type": "markdown",
      "source": [],
      "metadata": {
        "id": "Alhw3CwS_VDc"
      }
    },
    {
      "cell_type": "markdown",
      "source": [
        "tensors pic"
      ],
      "metadata": {
        "id": "oxcQWSwkJMUN"
      }
    },
    {
      "cell_type": "markdown",
      "source": [
        "[source](https://hkilter.com/index.php?title=What_is_Tensor%3F)"
      ],
      "metadata": {
        "id": "pCFX-TAS-rRm"
      }
    },
    {
      "cell_type": "markdown",
      "source": [
        "## **Random tensors**"
      ],
      "metadata": {
        "id": "k3LKg7f7mRVT"
      }
    },
    {
      "cell_type": "markdown",
      "source": [
        "Many neural networks learn things by starting with these following steps:\n",
        "\n",
        "1. random number in the tensors with [\n",
        "torch.rand](https://pytorch.org/docs/stable/generated/torch.rand.html)\n",
        "2. look at data\n",
        "3. update random numbers\n",
        "4. look at data\n",
        "5. update random numbers\n"
      ],
      "metadata": {
        "id": "y5rT22e-mUrr"
      }
    },
    {
      "cell_type": "code",
      "source": [
        "#create a random tensor of size (3,4)\n",
        "random_tensor = torch.rand(3,4)\n",
        "random_tensor"
      ],
      "metadata": {
        "colab": {
          "base_uri": "https://localhost:8080/"
        },
        "id": "X7_KngQF7rvg",
        "outputId": "4a9f7ede-82a2-4458-b5db-f83ed02f0ffc"
      },
      "execution_count": null,
      "outputs": [
        {
          "output_type": "execute_result",
          "data": {
            "text/plain": [
              "tensor([[0.6714, 0.8849, 0.6440, 0.7490],\n",
              "        [0.2665, 0.2235, 0.8685, 0.5451],\n",
              "        [0.7917, 0.0917, 0.4951, 0.1320]])"
            ]
          },
          "metadata": {},
          "execution_count": 19
        }
      ]
    },
    {
      "cell_type": "code",
      "source": [
        "random_tensor.ndim\n",
        "#number of bracket"
      ],
      "metadata": {
        "id": "wtKaYUy8oCls",
        "outputId": "a5166cde-98aa-4a86-b2e1-3f67607c044d",
        "colab": {
          "base_uri": "https://localhost:8080/"
        }
      },
      "execution_count": null,
      "outputs": [
        {
          "output_type": "execute_result",
          "data": {
            "text/plain": [
              "2"
            ]
          },
          "metadata": {},
          "execution_count": 20
        }
      ]
    },
    {
      "cell_type": "code",
      "source": [
        "random_tensor = torch.rand(3,3,4) #(number of bracket or set of matrix, rows of each matrix, columns of each matrix)\n",
        "random_tensor"
      ],
      "metadata": {
        "id": "JzNCPbqooN_R",
        "outputId": "ebf60b23-9739-4cad-9e83-2a4a141294f4",
        "colab": {
          "base_uri": "https://localhost:8080/"
        }
      },
      "execution_count": null,
      "outputs": [
        {
          "output_type": "execute_result",
          "data": {
            "text/plain": [
              "tensor([[[0.8392, 0.2026, 0.3443, 0.3889],\n",
              "         [0.4184, 0.2061, 0.5102, 0.7971],\n",
              "         [0.9066, 0.4758, 0.8494, 0.1696]],\n",
              "\n",
              "        [[0.2988, 0.3745, 0.1139, 0.7772],\n",
              "         [0.9042, 0.8952, 0.4544, 0.4371],\n",
              "         [0.5692, 0.0865, 0.8937, 0.6553]],\n",
              "\n",
              "        [[0.2144, 0.8869, 0.4258, 0.6195],\n",
              "         [0.6845, 0.8133, 0.3455, 0.7764],\n",
              "         [0.2148, 0.8847, 0.7957, 0.7891]]])"
            ]
          },
          "metadata": {},
          "execution_count": 23
        }
      ]
    },
    {
      "cell_type": "code",
      "source": [
        "random_tensor.ndim"
      ],
      "metadata": {
        "id": "iC00PK8foN77",
        "outputId": "03b2179b-2afe-47c4-fcf8-d736a844be18",
        "colab": {
          "base_uri": "https://localhost:8080/"
        }
      },
      "execution_count": null,
      "outputs": [
        {
          "output_type": "execute_result",
          "data": {
            "text/plain": [
              "3"
            ]
          },
          "metadata": {},
          "execution_count": 24
        }
      ]
    },
    {
      "cell_type": "code",
      "source": [
        "random_tensor.shape #size of tensors"
      ],
      "metadata": {
        "id": "OhVsL-2qoN4W",
        "outputId": "467974b5-a21d-4090-9712-497282c4c29a",
        "colab": {
          "base_uri": "https://localhost:8080/"
        }
      },
      "execution_count": null,
      "outputs": [
        {
          "output_type": "execute_result",
          "data": {
            "text/plain": [
              "torch.Size([3, 3, 4])"
            ]
          },
          "metadata": {},
          "execution_count": 25
        }
      ]
    },
    {
      "cell_type": "code",
      "source": [
        "#create a random number tensor with similar shape to an image\n"
      ],
      "metadata": {
        "id": "7Dxgm3enoN0x"
      },
      "execution_count": null,
      "outputs": []
    },
    {
      "cell_type": "code",
      "source": [],
      "metadata": {
        "id": "oAcTOj_4oNwX"
      },
      "execution_count": null,
      "outputs": []
    },
    {
      "cell_type": "code",
      "source": [],
      "metadata": {
        "id": "1MgVVK_1oNsT"
      },
      "execution_count": null,
      "outputs": []
    },
    {
      "cell_type": "code",
      "source": [],
      "metadata": {
        "id": "ItvsnzfgoNo8"
      },
      "execution_count": null,
      "outputs": []
    }
  ]
}