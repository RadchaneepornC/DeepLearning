{
  "nbformat": 4,
  "nbformat_minor": 0,
  "metadata": {
    "colab": {
      "provenance": []
    },
    "kernelspec": {
      "name": "python3",
      "display_name": "Python 3"
    },
    "language_info": {
      "name": "python"
    }
  },
  "cells": [
    {
      "cell_type": "markdown",
      "source": [
        "# **Pytorch Fundamentals**"
      ],
      "metadata": {
        "id": "ZOLPVer6Ct1p"
      }
    },
    {
      "cell_type": "markdown",
      "source": [
        ">[Pytorch Fundamentals](#scrollTo=ZOLPVer6Ct1p)\n",
        "\n",
        ">>[Introduction to Tensor](#scrollTo=IJ63STuYvO7o)\n",
        "\n",
        ">>>[Scalar](#scrollTo=nurFriQdCgMz)\n",
        "\n",
        ">>>[Vector](#scrollTo=C0jtR0K0CjyR)\n",
        "\n",
        ">>>[Matrix](#scrollTo=CDGhya2GCm53)\n",
        "\n",
        ">>>[Tensor](#scrollTo=dpAmfYcUCp3S)\n",
        "\n"
      ],
      "metadata": {
        "colab_type": "toc",
        "id": "o_4C_CcmCynH"
      }
    },
    {
      "cell_type": "code",
      "execution_count": 2,
      "metadata": {
        "id": "hRemFQnqs5cZ"
      },
      "outputs": [],
      "source": [
        "#import essential libaries\n",
        "import torch\n",
        "import pandas as pd\n",
        "import numpy as np\n",
        "import matplotlib.pyplot as plt"
      ]
    },
    {
      "cell_type": "code",
      "source": [
        "#command for checking Pytorch and cuda version\n",
        "torch.__version__"
      ],
      "metadata": {
        "id": "_-J_KYnKs_qf",
        "colab": {
          "base_uri": "https://localhost:8080/",
          "height": 37
        },
        "outputId": "d44af525-bb01-4677-c784-8731543af47c"
      },
      "execution_count": 3,
      "outputs": [
        {
          "output_type": "execute_result",
          "data": {
            "text/plain": [
              "'2.1.0+cu121'"
            ],
            "application/vnd.google.colaboratory.intrinsic+json": {
              "type": "string"
            }
          },
          "metadata": {},
          "execution_count": 3
        }
      ]
    },
    {
      "cell_type": "markdown",
      "source": [
        "from above result, now, we use\n",
        "- Pytorch in the version of 2.1.0\n",
        "- cuda in the version of 12.1"
      ],
      "metadata": {
        "id": "wXOXv3m4umh4"
      }
    },
    {
      "cell_type": "markdown",
      "source": [
        "## **Introduction to Tensor**"
      ],
      "metadata": {
        "id": "IJ63STuYvO7o"
      }
    },
    {
      "cell_type": "markdown",
      "source": [
        "Pytorch tensors are created using\n",
        "\n",
        "```\n",
        "torch.Tensor()\n",
        "```\n",
        "- A [torch.Tensor()](https://pytorch.org/docs/stable/tensors.html) is a multi-dimensional matrix containing elements of a single data type\n",
        "\n",
        "- **torch.Tensor** is an alias for the default tensor **type  torch.FloatTensor** (32-bit floating point for CPU tensor)\n",
        "\n"
      ],
      "metadata": {
        "id": "EJctL0Ksvx2e"
      }
    },
    {
      "cell_type": "markdown",
      "source": [
        "### **Scalar**"
      ],
      "metadata": {
        "id": "nurFriQdCgMz"
      }
    },
    {
      "cell_type": "code",
      "source": [
        "#create tensors\n",
        "scalar = torch.tensor(7)\n",
        "scalar"
      ],
      "metadata": {
        "colab": {
          "base_uri": "https://localhost:8080/"
        },
        "id": "uz3z6gONufkG",
        "outputId": "aec64302-c3f9-47d2-a503-89d08f14332b"
      },
      "execution_count": 4,
      "outputs": [
        {
          "output_type": "execute_result",
          "data": {
            "text/plain": [
              "tensor(7)"
            ]
          },
          "metadata": {},
          "execution_count": 4
        }
      ]
    },
    {
      "cell_type": "code",
      "source": [
        "#to check number of dimensions of tensors\n",
        "scalar.ndim"
      ],
      "metadata": {
        "id": "G4ET_1IV_VUy",
        "outputId": "7fd3ce8b-4489-4810-8db1-8cc5e675c104",
        "colab": {
          "base_uri": "https://localhost:8080/"
        }
      },
      "execution_count": 5,
      "outputs": [
        {
          "output_type": "execute_result",
          "data": {
            "text/plain": [
              "0"
            ]
          },
          "metadata": {},
          "execution_count": 5
        }
      ]
    },
    {
      "cell_type": "code",
      "source": [
        "#to get tensor back as Python int\n",
        "scalar.item()"
      ],
      "metadata": {
        "id": "7rafGQR9_n4Z",
        "outputId": "b081a654-959e-4da1-a54b-991ab7bb9e42",
        "colab": {
          "base_uri": "https://localhost:8080/"
        }
      },
      "execution_count": 6,
      "outputs": [
        {
          "output_type": "execute_result",
          "data": {
            "text/plain": [
              "7"
            ]
          },
          "metadata": {},
          "execution_count": 6
        }
      ]
    },
    {
      "cell_type": "markdown",
      "source": [
        "### **Vector**"
      ],
      "metadata": {
        "id": "C0jtR0K0CjyR"
      }
    },
    {
      "cell_type": "code",
      "source": [
        "#Vector\n",
        "vector = torch.tensor([7,7])\n",
        "vector"
      ],
      "metadata": {
        "id": "wIInO-yO_01F",
        "outputId": "4fcf4cbe-431d-48fd-a8f6-7e0749025733",
        "colab": {
          "base_uri": "https://localhost:8080/"
        }
      },
      "execution_count": 7,
      "outputs": [
        {
          "output_type": "execute_result",
          "data": {
            "text/plain": [
              "tensor([7, 7])"
            ]
          },
          "metadata": {},
          "execution_count": 7
        }
      ]
    },
    {
      "cell_type": "code",
      "source": [
        "vector.ndim"
      ],
      "metadata": {
        "id": "doJ4mMG1AQuU",
        "outputId": "15ee1b04-aaf4-4e86-f69c-0dc38b993175",
        "colab": {
          "base_uri": "https://localhost:8080/"
        }
      },
      "execution_count": 8,
      "outputs": [
        {
          "output_type": "execute_result",
          "data": {
            "text/plain": [
              "1"
            ]
          },
          "metadata": {},
          "execution_count": 8
        }
      ]
    },
    {
      "cell_type": "markdown",
      "source": [
        "**easily to remember**: number of dimension = number of [ ]"
      ],
      "metadata": {
        "id": "hYN12DACBAHi"
      }
    },
    {
      "cell_type": "code",
      "source": [
        "#number of element\n",
        "vector.shape"
      ],
      "metadata": {
        "id": "V1jk-IaYBNYO",
        "outputId": "1031fd3a-46ac-462e-a6db-aaa6ae5953ba",
        "colab": {
          "base_uri": "https://localhost:8080/"
        }
      },
      "execution_count": 9,
      "outputs": [
        {
          "output_type": "execute_result",
          "data": {
            "text/plain": [
              "torch.Size([2])"
            ]
          },
          "metadata": {},
          "execution_count": 9
        }
      ]
    },
    {
      "cell_type": "markdown",
      "source": [
        "### **Matrix**"
      ],
      "metadata": {
        "id": "CDGhya2GCm53"
      }
    },
    {
      "cell_type": "code",
      "source": [
        "#matrix\n",
        "matrix = torch.tensor([[7, 8],\n",
        "                      [9, 10]])\n",
        "\n",
        "matrix"
      ],
      "metadata": {
        "id": "_dOctx3hBnAh",
        "outputId": "86c77be9-453e-45e5-b3a5-11e57d67710d",
        "colab": {
          "base_uri": "https://localhost:8080/"
        }
      },
      "execution_count": 10,
      "outputs": [
        {
          "output_type": "execute_result",
          "data": {
            "text/plain": [
              "tensor([[ 7,  8],\n",
              "        [ 9, 10]])"
            ]
          },
          "metadata": {},
          "execution_count": 10
        }
      ]
    },
    {
      "cell_type": "code",
      "source": [
        "matrix.ndim\n",
        "#2 square brackets"
      ],
      "metadata": {
        "id": "NHVNxw65B3KF",
        "outputId": "661c4d33-1d59-4a6a-95db-fe189ec80695",
        "colab": {
          "base_uri": "https://localhost:8080/"
        }
      },
      "execution_count": 11,
      "outputs": [
        {
          "output_type": "execute_result",
          "data": {
            "text/plain": [
              "2"
            ]
          },
          "metadata": {},
          "execution_count": 11
        }
      ]
    },
    {
      "cell_type": "code",
      "source": [
        "matrix[0]"
      ],
      "metadata": {
        "id": "D4_QvPG2CCjB",
        "outputId": "6c3d15fd-1459-416e-e2c5-12612b664bf7",
        "colab": {
          "base_uri": "https://localhost:8080/"
        }
      },
      "execution_count": 12,
      "outputs": [
        {
          "output_type": "execute_result",
          "data": {
            "text/plain": [
              "tensor([7, 8])"
            ]
          },
          "metadata": {},
          "execution_count": 12
        }
      ]
    },
    {
      "cell_type": "code",
      "source": [
        "matrix[1]"
      ],
      "metadata": {
        "id": "M8inKeKrCGAn",
        "outputId": "726953c2-4f28-4817-d562-c34d91a426d4",
        "colab": {
          "base_uri": "https://localhost:8080/"
        }
      },
      "execution_count": 13,
      "outputs": [
        {
          "output_type": "execute_result",
          "data": {
            "text/plain": [
              "tensor([ 9, 10])"
            ]
          },
          "metadata": {},
          "execution_count": 13
        }
      ]
    },
    {
      "cell_type": "code",
      "source": [
        "matrix.shape\n",
        "#2x2"
      ],
      "metadata": {
        "id": "u8RHWn7zCTvH",
        "outputId": "562a0937-8c95-4951-b242-76f017235414",
        "colab": {
          "base_uri": "https://localhost:8080/"
        }
      },
      "execution_count": 14,
      "outputs": [
        {
          "output_type": "execute_result",
          "data": {
            "text/plain": [
              "torch.Size([2, 2])"
            ]
          },
          "metadata": {},
          "execution_count": 14
        }
      ]
    },
    {
      "cell_type": "markdown",
      "source": [
        "### **Tensor**"
      ],
      "metadata": {
        "id": "dpAmfYcUCp3S"
      }
    },
    {
      "cell_type": "code",
      "source": [
        "tensor = torch.tensor([[[1, 2, 3],\n",
        "                      [3, 6, 9],\n",
        "                      [2, 4, 4]]])\n",
        "tensor"
      ],
      "metadata": {
        "id": "oXV6Q3HHCcfL",
        "outputId": "ea1d29e5-1196-49d0-9a9c-849068cc107c",
        "colab": {
          "base_uri": "https://localhost:8080/"
        }
      },
      "execution_count": 15,
      "outputs": [
        {
          "output_type": "execute_result",
          "data": {
            "text/plain": [
              "tensor([[[1, 2, 3],\n",
              "         [3, 6, 9],\n",
              "         [2, 4, 4]]])"
            ]
          },
          "metadata": {},
          "execution_count": 15
        }
      ]
    },
    {
      "cell_type": "code",
      "source": [
        "tensor.ndim"
      ],
      "metadata": {
        "id": "LZEpJEqADm37",
        "outputId": "bb70bd87-b9b7-4c37-cea6-06c379187dd2",
        "colab": {
          "base_uri": "https://localhost:8080/"
        }
      },
      "execution_count": 16,
      "outputs": [
        {
          "output_type": "execute_result",
          "data": {
            "text/plain": [
              "3"
            ]
          },
          "metadata": {},
          "execution_count": 16
        }
      ]
    },
    {
      "cell_type": "code",
      "source": [
        "tensor.shape"
      ],
      "metadata": {
        "id": "tW3getKiDpfN",
        "outputId": "35104e68-2885-44e9-a4c2-e1cb37c3ff28",
        "colab": {
          "base_uri": "https://localhost:8080/"
        }
      },
      "execution_count": 17,
      "outputs": [
        {
          "output_type": "execute_result",
          "data": {
            "text/plain": [
              "torch.Size([1, 3, 3])"
            ]
          },
          "metadata": {},
          "execution_count": 17
        }
      ]
    },
    {
      "cell_type": "markdown",
      "source": [],
      "metadata": {
        "id": "Alhw3CwS_VDc"
      }
    },
    {
      "cell_type": "markdown",
      "source": [],
      "metadata": {
        "id": "pCFX-TAS-rRm"
      }
    },
    {
      "cell_type": "code",
      "source": [],
      "metadata": {
        "id": "X7_KngQF7rvg"
      },
      "execution_count": null,
      "outputs": []
    }
  ]
}